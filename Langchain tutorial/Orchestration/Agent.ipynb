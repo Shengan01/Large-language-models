{
 "cells": [
  {
   "cell_type": "code",
   "execution_count": null,
   "metadata": {},
   "outputs": [],
   "source": [
    "import os\n",
    "from dotenv import load_dotenv\n",
    "load_dotenv()\n",
    "\n",
    "\n",
    "if not os.environ.get(\"OPENAI_API_KEY\"):\n",
    "    print(\"OpenAI API key not found in environment variables\")\n",
    "    \n",
    "if not os.environ.get(\"TAVILY_API_KEY\"):\n",
    "    print(\"Tavily API key not found in environment variables\")\n",
    "\n",
    "os.environ[\"LANGSMITH_TRACING\"] = \"true\"\n",
    "\n",
    "from langchain_openai import ChatOpenAI\n"
   ]
  },
  {
   "cell_type": "code",
   "execution_count": 2,
   "metadata": {},
   "outputs": [
    {
     "name": "stdout",
     "output_type": "stream",
     "text": [
      "[{'title': '25 Most Technologically Advanced Cities in the World', 'url': 'https://finance.yahoo.com/news/25-most-technologically-advanced-cities-005705680.html', 'content': \"So, without further delay, let us examine the list of the 25 most technologically advanced cities globally.\\n\\n25. Stockholm\\n\\nNumber of tech startups = 168\\n\\nThere are about 101,000 ICT workers in Stockholm. Stockholm contains a number of distinctive and potent elements that encourage the creation of startups. [...] Beijing has rapidly developed itself into a technological giant. The city's outstanding higher education system, reputable research foundation, and active government backing have helped it become a worldwide player in AI and sophisticated manufacturing. Beijing constructed 54,000 5G base stations in 2022 to attain basic gigabit internet access throughout the city and coverage in the 5G signal-free trade area.\\n\\n22. Amsterdam\\n\\nNumber of tech startups = 286 [...] Tokyo, the capital of Japan, plans to develop a mini-city called Tokyo eSG that will be based on the concepts of environmental, social and governance concepts of ESG. Using innovative technologies, the city will become carbon-neutral and more resistant to impending health and climatic catastrophes.\\n\\n17. Munich\\n\\nNumber of tech startups = 1,800\", 'score': 0.90771407}, {'title': 'The Most High-Tech Cities In The World - BOSS Magazine', 'url': 'https://thebossmagazine.com/the-most-high-tech-cities-in-the-world/', 'content': '1. Amsterdam, Netherlands. This beautiful and diverse city has proven itself to be an important global technology player. · 2. Seoul, South Korea', 'score': 0.84027237}]\n"
     ]
    }
   ],
   "source": [
    "from langchain_community.tools.tavily_search import TavilySearchResults\n",
    "\n",
    "search = TavilySearchResults(max_results = 2)\n",
    "search_results = search.invoke(\"What is the most technologically advanced city in the world?\")\n",
    "print(search_results)\n",
    "tools = [search]\n"
   ]
  },
  {
   "cell_type": "code",
   "execution_count": null,
   "metadata": {},
   "outputs": [],
   "source": [
    "from langchain.chat_models import init_chat_model\n",
    "\n",
    "model = init_chat_model('gpt-4o-mini', model_provider='openai')\n"
   ]
  },
  {
   "cell_type": "code",
   "execution_count": 5,
   "metadata": {},
   "outputs": [
    {
     "data": {
      "text/plain": [
       "'As of my last knowledge update in October 2023, several cities are often cited as being among the most technologically advanced in terms of information technology (IT). Notable contenders include:\\n\\n1. **Singapore**: Known for its Smart Nation initiative, Singapore invests heavily in IT infrastructure, smart city technologies, and data analytics. The city-state promotes a digitally connected environment with extensive use of IoT devices.\\n\\n2. **San Francisco/Silicon Valley**: Home to numerous tech giants and startups, the San Francisco Bay Area is a hub for innovation in IT, software development, and emerging technologies like AI and machine learning.\\n\\n3. **Tokyo**: Japan\\'s capital is renowned for its advanced infrastructure, including high-speed internet, robotics, and technology integration in everyday life.\\n\\n4. **Seoul**: Recognized for its rapid technological advancement, Seoul boasts one of the fastest internet speeds worldwide and promotes initiatives in smart city development.\\n\\n5. **Shenzhen**: Known as China\\'s Silicon Valley, Shenzhen is a center for electronics manufacturing and innovation, with many tech firms and startups.\\n\\n6. **Estonia (Tallinn)**: While not a city in the traditional sense, Estonia is often highlighted for its digital governance and e-residency program, showcasing advanced IT infrastructure.\\n\\nWhile these cities are leaders in different aspects of technology, the title of \"most technologically advanced city\" can be subjective and may vary based on specific criteria, such as internet infrastructure, innovation capabilities, or quality of life enhancements through technology.'"
      ]
     },
     "execution_count": 5,
     "metadata": {},
     "output_type": "execute_result"
    }
   ],
   "source": [
    "from langchain_core.messages import HumanMessage\n",
    "\n",
    "response = model.invoke([HumanMessage(content = \"What is the most technologically advanced city in the world in terms of IT?\")])\n",
    "response.content"
   ]
  },
  {
   "cell_type": "code",
   "execution_count": 6,
   "metadata": {},
   "outputs": [
    {
     "name": "stdout",
     "output_type": "stream",
     "text": [
      "ContentString: As of my last knowledge update in October 2023, several cities are often cited as being among the most technologically advanced in terms of information technology (IT). Notable contenders include:\n",
      "\n",
      "1. **Singapore**: Known for its Smart Nation initiative, Singapore invests heavily in IT infrastructure, smart city technologies, and data analytics. The city-state promotes a digitally connected environment with extensive use of IoT devices.\n",
      "\n",
      "2. **San Francisco/Silicon Valley**: Home to numerous tech giants and startups, the San Francisco Bay Area is a hub for innovation in IT, software development, and emerging technologies like AI and machine learning.\n",
      "\n",
      "3. **Tokyo**: Japan's capital is renowned for its advanced infrastructure, including high-speed internet, robotics, and technology integration in everyday life.\n",
      "\n",
      "4. **Seoul**: Recognized for its rapid technological advancement, Seoul boasts one of the fastest internet speeds worldwide and promotes initiatives in smart city development.\n",
      "\n",
      "5. **Shenzhen**: Known as China's Silicon Valley, Shenzhen is a center for electronics manufacturing and innovation, with many tech firms and startups.\n",
      "\n",
      "6. **Estonia (Tallinn)**: While not a city in the traditional sense, Estonia is often highlighted for its digital governance and e-residency program, showcasing advanced IT infrastructure.\n",
      "\n",
      "While these cities are leaders in different aspects of technology, the title of \"most technologically advanced city\" can be subjective and may vary based on specific criteria, such as internet infrastructure, innovation capabilities, or quality of life enhancements through technology.\n",
      "ToolCalls: []\n"
     ]
    }
   ],
   "source": [
    "model_with_tools = model.bind_tools(tools)\n",
    "\n",
    "print(f'ContentString: {response.content}')\n",
    "print(f'ToolCalls: {response.tool_calls}')\n"
   ]
  },
  {
   "cell_type": "code",
   "execution_count": 7,
   "metadata": {},
   "outputs": [
    {
     "name": "stdout",
     "output_type": "stream",
     "text": [
      "ContentString: \n",
      "ToolCalls: [{'name': 'tavily_search_results_json', 'args': {'query': 'most technologically advanced city in the world 2023 IT'}, 'id': 'call_DVtRB7srmVrbUqlnr5Umq24n', 'type': 'tool_call'}]\n"
     ]
    }
   ],
   "source": [
    "response = model_with_tools.invoke([HumanMessage(content = \"What is the most technologically advanced city in the world in terms of IT?\")])\n",
    "\n",
    "print(f'ContentString: {response.content}')\n",
    "print(f'ToolCalls: {response.tool_calls}')\n",
    "\n"
   ]
  },
  {
   "cell_type": "code",
   "execution_count": 10,
   "metadata": {},
   "outputs": [
    {
     "data": {
      "text/plain": [
       "[HumanMessage(content='What is the most technologically advanced city in the world in terms of IT?', additional_kwargs={}, response_metadata={}, id='3a34bf48-1c91-4b21-9ef7-f075fb9f38aa'),\n",
       " AIMessage(content='', additional_kwargs={'tool_calls': [{'id': 'call_95fCcuoA7BICcMCIplzfyvRj', 'function': {'arguments': '{\"query\":\"most technologically advanced city in the world 2023\"}', 'name': 'tavily_search_results_json'}, 'type': 'function'}], 'refusal': None}, response_metadata={'token_usage': {'completion_tokens': 28, 'prompt_tokens': 94, 'total_tokens': 122, 'completion_tokens_details': {'accepted_prediction_tokens': 0, 'audio_tokens': 0, 'reasoning_tokens': 0, 'rejected_prediction_tokens': 0}, 'prompt_tokens_details': {'audio_tokens': 0, 'cached_tokens': 0}}, 'model_name': 'gpt-4o-mini-2024-07-18', 'system_fingerprint': 'fp_b376dfbbd5', 'id': 'chatcmpl-BJOKQ9m9EJbT6MyqW3tk2UDqrKvfH', 'finish_reason': 'tool_calls', 'logprobs': None}, id='run-d230f04d-21ca-4d41-8c0b-318af5c9e1d0-0', tool_calls=[{'name': 'tavily_search_results_json', 'args': {'query': 'most technologically advanced city in the world 2023'}, 'id': 'call_95fCcuoA7BICcMCIplzfyvRj', 'type': 'tool_call'}], usage_metadata={'input_tokens': 94, 'output_tokens': 28, 'total_tokens': 122, 'input_token_details': {'audio': 0, 'cache_read': 0}, 'output_token_details': {'audio': 0, 'reasoning': 0}}),\n",
       " ToolMessage(content='[{\"title\": \"Top 5 smart cities in the world (2023) - Thinger.io\", \"url\": \"https://thinger.io/top-5-smart-cities-in-the-world-2023/\", \"content\": \"1- Zurich (Switzerland) at the top of the Smart City Index : Zurich emerged as the world\\'s smartest city in 2023. · 2- Oslo (Norway) the\", \"score\": 0.8430832}, {\"title\": \"Savills Tech Cities 2023 shows that while big cities dominate, tech ...\", \"url\": \"https://www.savills.us/insight-and-opinion/savills-news/340224/savills-tech-cities-2023-shows-that-while-big-cities-dominate--tech-specialisms-are-accelerating-in-some-locations\", \"content\": \"San Francisco, New York and Silicon Valley dominate the top of Savills 2023 global ranking of \\'Tech Cities\\', offering deep pools of talent,\", \"score\": 0.8215175}]', name='tavily_search_results_json', id='d86e957f-3bca-4bd2-ab5d-6717b0a92fd8', tool_call_id='call_95fCcuoA7BICcMCIplzfyvRj', artifact={'query': 'most technologically advanced city in the world 2023', 'follow_up_questions': None, 'answer': None, 'images': [], 'results': [{'url': 'https://thinger.io/top-5-smart-cities-in-the-world-2023/', 'title': 'Top 5 smart cities in the world (2023) - Thinger.io', 'content': \"1- Zurich (Switzerland) at the top of the Smart City Index : Zurich emerged as the world's smartest city in 2023. · 2- Oslo (Norway) the\", 'score': 0.8430832, 'raw_content': None}, {'url': 'https://www.savills.us/insight-and-opinion/savills-news/340224/savills-tech-cities-2023-shows-that-while-big-cities-dominate--tech-specialisms-are-accelerating-in-some-locations', 'title': 'Savills Tech Cities 2023 shows that while big cities dominate, tech ...', 'content': \"San Francisco, New York and Silicon Valley dominate the top of Savills 2023 global ranking of 'Tech Cities', offering deep pools of talent,\", 'score': 0.8215175, 'raw_content': None}], 'response_time': 2.16}),\n",
       " AIMessage(content='As of 2023, the most technologically advanced city in the world, particularly in terms of IT, is Zurich, Switzerland, according to the Smart City Index. Other notable cities include Oslo, Norway, San Francisco, and New York, which continue to be dominant in the tech landscape due to their talent pools and innovation ecosystems.\\n\\nFor more detailed information, you can check the following sources:\\n- [Top 5 smart cities in the world (2023)](https://thinger.io/top-5-smart-cities-in-the-world-2023/)\\n- [Savills Tech Cities 2023](https://www.savills.us/insight-and-opinion/savills-news/340224/savills-tech-cities-2023-shows-that-while-big-cities-dominate--tech-specialisms-are-accelerating-in-some-locations)', additional_kwargs={'refusal': None}, response_metadata={'token_usage': {'completion_tokens': 177, 'prompt_tokens': 353, 'total_tokens': 530, 'completion_tokens_details': {'accepted_prediction_tokens': 0, 'audio_tokens': 0, 'reasoning_tokens': 0, 'rejected_prediction_tokens': 0}, 'prompt_tokens_details': {'audio_tokens': 0, 'cached_tokens': 0}}, 'model_name': 'gpt-4o-mini-2024-07-18', 'system_fingerprint': 'fp_b376dfbbd5', 'id': 'chatcmpl-BJOKTo3kfbvykFl0t75x0nt3o1Sdm', 'finish_reason': 'stop', 'logprobs': None}, id='run-a642e6a1-35aa-4e31-a0c1-40d7222b3b3f-0', usage_metadata={'input_tokens': 353, 'output_tokens': 177, 'total_tokens': 530, 'input_token_details': {'audio': 0, 'cache_read': 0}, 'output_token_details': {'audio': 0, 'reasoning': 0}})]"
      ]
     },
     "execution_count": 10,
     "metadata": {},
     "output_type": "execute_result"
    }
   ],
   "source": [
    "from langgraph.prebuilt import create_react_agent\n",
    "\n",
    "agent_executor = create_react_agent(model, tools)\n",
    "\n",
    "response = agent_executor.invoke({\"messages\": [HumanMessage(content = \"What is the most technologically advanced city in the world in terms of IT?\")]})\n",
    "\n",
    "response['messages']\n"
   ]
  },
  {
   "cell_type": "code",
   "execution_count": 11,
   "metadata": {},
   "outputs": [
    {
     "name": "stdout",
     "output_type": "stream",
     "text": [
      "==================================\u001b[1m Ai Message \u001b[0m==================================\n",
      "\n",
      "Based on the latest information, the most technologically advanced cities in the world in terms of IT for 2023 include:\n",
      "\n",
      "1. **New York City, USA**: Known for its rapid adoption of smart technologies, NYC is constantly improving services through technology, making it one of the leaders in high-tech urban innovation.\n",
      "\n",
      "2. **San Francisco, USA**: Home to Silicon Valley, San Francisco dominates the global ranking of tech cities with a deep talent pool and a culture of innovation.\n",
      "\n",
      "3. **London, England**: Frequently recognized as one of the smartest cities globally, London is advancing its technological framework across various sectors.\n",
      "\n",
      "For further details on these rankings and their implications, consider checking the full articles [here](https://www.savills.us/insight-and-opinion/savills-news/340224/savills-tech-cities-2023-shows-that-while-big-cities-dominate--tech-specialisms-are-accelerating-in-some-locations) and [here](https://www.digi.com/blog/post/smart-cities-in-the-world).\n"
     ]
    }
   ],
   "source": [
    "response = agent_executor.invoke({\"messages\": [HumanMessage(content = \"What is the most technologically advanced city in the world in terms of IT?\")]})\n",
    "\n",
    "response['messages'][-1].pretty_print()\n"
   ]
  },
  {
   "cell_type": "code",
   "execution_count": 12,
   "metadata": {},
   "outputs": [
    {
     "name": "stdout",
     "output_type": "stream",
     "text": [
      "================================\u001b[1m Human Message \u001b[0m=================================\n",
      "\n",
      "What is the most technologically advanced city in the world in terms of IT?\n",
      "==================================\u001b[1m Ai Message \u001b[0m==================================\n",
      "Tool Calls:\n",
      "  tavily_search_results_json (call_K37aqCe3qZzVqgTLp3ud8BjL)\n",
      " Call ID: call_K37aqCe3qZzVqgTLp3ud8BjL\n",
      "  Args:\n",
      "    query: most technologically advanced city in the world 2023 IT\n",
      "=================================\u001b[1m Tool Message \u001b[0m=================================\n",
      "Name: tavily_search_results_json\n",
      "\n",
      "[{\"title\": \"Top 10 Most Futuristic Smart Cities in the World (2023)\", \"url\": \"https://www.digi.com/blog/post/smart-cities-in-the-world\", \"content\": \"1. The Smartest City in the World: London, England [...] New York City has one of the largest populations in the U.S. and is one of the most densely populated cities on the planet. It is also constantly adopting smart technologies that improve services for its citizens. That puts it high on the list of the most futuristic smart cities in the world for 2023. In 2020, Digi partnered with the New York City Department of Transportation to dramatically upgrade its wireless infrastructure network to enable intelligent traffic management systems. Best of [...] sources. For these reasons, Surat is one of the most innovative smart city examples.\", \"score\": 0.72698855}, {\"title\": \"The Most High-Tech Cities In The World - BOSS Magazine\", \"url\": \"https://thebossmagazine.com/the-most-high-tech-cities-in-the-world/\", \"content\": \"BOSS Magazine\\n\\nBOSS Magazine - December & January 2025\\n\\nThe Most High-Tech Cities In The World\\n\\nIf you dream of living in a high-tech city that surrounds you with comfort and safety, then you should pay attention to megacities that are already using IoT, blockchain, and other technologies\\n\\nby BOSS Editorial | Published: September 29, 2023  | Updated: October 5, 2023 10:17 am\", \"score\": 0.6010557}]\n",
      "==================================\u001b[1m Ai Message \u001b[0m==================================\n",
      "Tool Calls:\n",
      "  tavily_search_results_json (call_VgKspOpGF5bRnDTvW1bScDT7)\n",
      " Call ID: call_VgKspOpGF5bRnDTvW1bScDT7\n",
      "  Args:\n",
      "    query: top cities for technology innovation 2023\n",
      "=================================\u001b[1m Tool Message \u001b[0m=================================\n",
      "Name: tavily_search_results_json\n",
      "\n",
      "[{\"title\": \"The best tech job cities of 2023 - VentureBeat\", \"url\": \"https://venturebeat.com/programming-development/the-best-tech-job-cities-of-2023/\", \"content\": \"If you're looking for a career in tech, it still pays to live in traditional innovation hubs like Silicon Valley, Boston or New York City.\", \"score\": 0.8805613}, {\"title\": \"the 8 best US cities for tech jobs in 2023. - Randstad USA\", \"url\": \"https://www.randstadusa.com/job-seeker/career-advice/job-search-tips/8-best-us-cities-tech-jobs-2023/\", \"content\": \"the 8 best US cities for tech jobs in 2023. · 1. join the startup boom in Tampa · 2. thrive with the big beasts in Austin · 3. cash in on San\", \"score\": 0.8440111}]\n",
      "==================================\u001b[1m Ai Message \u001b[0m==================================\n",
      "Tool Calls:\n",
      "  tavily_search_results_json (call_amZHqqoP1p4gpeMYKOYaMWj1)\n",
      " Call ID: call_amZHqqoP1p4gpeMYKOYaMWj1\n",
      "  Args:\n",
      "    query: smartest cities in the world 2023 technology\n",
      "=================================\u001b[1m Tool Message \u001b[0m=================================\n",
      "Name: tavily_search_results_json\n",
      "\n",
      "[{\"title\": \"Top 5 Smart Cities in 2023 | Infographics - Juniper Research\", \"url\": \"https://www.juniperresearch.com/resources/infographics/top-5-smart-cities-in-2023/\", \"content\": \"In its latest smart cities research, Juniper Research ranked Shanghai as being the world's leading smart city - for the second year in a row.\", \"score\": 0.86954874}, {\"title\": \"A Recap of 2023's Top Smart Cities\", \"url\": \"https://www.smartcityworks.org/post/a-recap-of-2023s-top-smart-cities\", \"content\": \"At the 2023 World Smart City Awards gala held at SCEWC, Curitiba, Brazil was named Smart City of the Year. This award honors exceptional\", \"score\": 0.8627572}]\n",
      "==================================\u001b[1m Ai Message \u001b[0m==================================\n",
      "Tool Calls:\n",
      "  tavily_search_results_json (call_BFwTsdPTIvyhtOCAME6Kdfoe)\n",
      " Call ID: call_BFwTsdPTIvyhtOCAME6Kdfoe\n",
      "  Args:\n",
      "    query: most innovative cities technology 2023\n",
      "  tavily_search_results_json (call_cNiHNl7NIYiDKgA2iugblaBk)\n",
      " Call ID: call_cNiHNl7NIYiDKgA2iugblaBk\n",
      "  Args:\n",
      "    query: leading cities technology innovation 2023\n",
      "=================================\u001b[1m Tool Message \u001b[0m=================================\n",
      "Name: tavily_search_results_json\n",
      "\n",
      "[{\"title\": \"Global Innovation Hubs Index 2023 - Nature\", \"url\": \"https://www.nature.com/articles/d42473-023-00420-1\", \"content\": \"The performance of the top 20 cities/metropolitan areas in research innovation are varied by each indicator. For example, New York MA ranks first and is leading\", \"score\": 0.8512743}, {\"title\": \"Global Startup Ecosystem Ranking 2023 (Top 30 + Runners-Up)\", \"url\": \"https://startupgenome.com/article/global-startup-ecosystem-ranking-2023-top-30-plus-runners-up\", \"content\": \"North America remains the globally leading region in terms of the number of tech startup ecosystems in the ranking (15 of the top 30 with three additional entries in the 10 runners-up). The top three global ecosystems remain the same from 2020, with Silicon Valley at #1, followed by New York City and London tied at #2. However, Boston and Beijing have dropped out of the top five, losing two positions each, and are replaced by Los Angeles at #4 and Tel Aviv at #5. These top five account for a [...] The top three ecosystems have maintained their positions from 2020, with Silicon Valley remaining at the top, followed by New York City and London tied at #2.\\nBoston and Beijing have both slipped out of the top five to #6 and #7 respectively, losing two positions each. This has paved the way for Los Angeles to rise to #4 and Tel Aviv to #5, both gaining two spots.\", \"score\": 0.76321954}]\n",
      "==================================\u001b[1m Ai Message \u001b[0m==================================\n",
      "\n",
      "The most technologically advanced cities in the world, particularly in terms of information technology (IT) and innovation for 2023, include:\n",
      "\n",
      "1. **New York City**: Ranked as having the most innovative business ecosystem globally, New York consistently appears at the top of technology innovation rankings. It is recognized for its strong startup scene and significant investments in technology infrastructure.\n",
      "\n",
      "2. **Shanghai**: Identified as the leading smart city, Shanghai excels in implementing smart technologies and urban innovation strategies. It has been recognized for its advanced urban management systems.\n",
      "\n",
      "3. **London**: Often tied with New York City, London is a strong global tech hub with a vibrant startup environment, making it a central player in technological advancements.\n",
      "\n",
      "4. **Silicon Valley**: While not a city by itself, Silicon Valley remains the pinnacle of tech innovation and entrepreneurship, hosting numerous tech giants and startups.\n",
      "\n",
      "5. **Singapore**: Recognized for its smart city initiatives, Singapore integrates technology extensively in urban planning, healthcare, and public services.\n",
      "\n",
      "For detailed insights, you can check the following resources:\n",
      "- [Smart Cities in the World - Digi](https://www.digi.com/blog/post/smart-cities-in-the-world)\n",
      "- [Top Smart Cities 2023 - Juniper Research](https://www.juniperresearch.com/resources/infographics/top-5-smart-cities-in-2023)\n",
      "- [Most Innovative Cities - Statista](https://www.statista.com/statistics/1425261/cities-world-innovation/)\n",
      "- [Global Startup Ecosystem - Startup Genome](https://startupgenome.com/article/global-startup-ecosystem-ranking-2023-top-30-plus-runners-up)\n"
     ]
    }
   ],
   "source": [
    "for step in agent_executor.stream(\n",
    "    {\"messages\": [HumanMessage(content = \"What is the most technologically advanced city in the world in terms of IT?\")]},\n",
    "    stream_mode = \"values\",\n",
    "):\n",
    "    step['messages'][-1].pretty_print()\n",
    "\n",
    "\n"
   ]
  },
  {
   "cell_type": "code",
   "execution_count": 13,
   "metadata": {},
   "outputs": [
    {
     "name": "stdout",
     "output_type": "stream",
     "text": [
      "The| search| results| indicate| that| several| cities| are| considered| technologically| advanced| in| terms| of| IT|.| Not|ably|:\n",
      "\n",
      "|1|.| **|London|,| England|**|:| Often| referred| to| as| the| smartest| city| in| the| world|,| London| incorporates| a| range| of| smart| technologies| aimed| at| improving| urban| services| for| its| citizens|.\n",
      "\n",
      "|2|.| **|New| York| City|,| USA|**|:| Known| for| its| dense| population| and| continuous| adoption| of| smart| technologies|,| NYC| has| made| significant| upgrades| to| its| wireless| infrastructure| for| better| traffic| management| and| citizen| services|.\n",
      "\n",
      "|For| a| comprehensive| list| and| details| on| other| cities|,| you| may| refer| to| sources| like| [|D|igi|](|https|://|www|.d|igi|.com|/blog|/post|/s|mart|-c|ities|-in|-the|-world|)| and| [|B|OSS| Magazine|](|https|://|the|boss|mag|azine|.com|/the|-most|-high|-tech|-c|ities|-in|-the|-world|/|).|"
     ]
    }
   ],
   "source": [
    "for step, metadata in agent_executor.stream(\n",
    "    {\"messages\": [HumanMessage(content = \"What is the most technologically advanced city in the world in terms of IT?\")]},\n",
    "    stream_mode = \"messages\",\n",
    "):\n",
    "    if metadata['langgraph_node'] == 'agent' and (text := step.text()):\n",
    "        print(text, end = '|')\n",
    "\n"
   ]
  },
  {
   "cell_type": "code",
   "execution_count": 15,
   "metadata": {},
   "outputs": [],
   "source": [
    "from langgraph.checkpoint.memory import MemorySaver\n",
    "\n",
    "memory_saver = MemorySaver()\n",
    "\n",
    "agent_executor = create_react_agent(model, tools, checkpointer = memory_saver)\n",
    "\n",
    "config = {\"configurable\": {\"thread_id\": \"123\"}}\n"
   ]
  },
  {
   "cell_type": "code",
   "execution_count": 16,
   "metadata": {},
   "outputs": [
    {
     "name": "stdout",
     "output_type": "stream",
     "text": [
      "{'agent': {'messages': [AIMessage(content='', additional_kwargs={'tool_calls': [{'id': 'call_HTSx1WTeqVmkr4jfcvVxaOR7', 'function': {'arguments': '{\"query\":\"most technologically advanced city in the world 2023\"}', 'name': 'tavily_search_results_json'}, 'type': 'function'}], 'refusal': None}, response_metadata={'token_usage': {'completion_tokens': 28, 'prompt_tokens': 94, 'total_tokens': 122, 'completion_tokens_details': {'accepted_prediction_tokens': 0, 'audio_tokens': 0, 'reasoning_tokens': 0, 'rejected_prediction_tokens': 0}, 'prompt_tokens_details': {'audio_tokens': 0, 'cached_tokens': 0}}, 'model_name': 'gpt-4o-mini-2024-07-18', 'system_fingerprint': 'fp_b376dfbbd5', 'id': 'chatcmpl-BJOOGkYeKt0b64zj2WML38o6gzjFn', 'finish_reason': 'tool_calls', 'logprobs': None}, id='run-f06ef45b-2ff1-467e-ac14-329ca2958c71-0', tool_calls=[{'name': 'tavily_search_results_json', 'args': {'query': 'most technologically advanced city in the world 2023'}, 'id': 'call_HTSx1WTeqVmkr4jfcvVxaOR7', 'type': 'tool_call'}], usage_metadata={'input_tokens': 94, 'output_tokens': 28, 'total_tokens': 122, 'input_token_details': {'audio': 0, 'cache_read': 0}, 'output_token_details': {'audio': 0, 'reasoning': 0}})]}}\n",
      "----\n",
      "{'tools': {'messages': [ToolMessage(content='[{\"title\": \"Top 5 smart cities in the world (2023) - Thinger.io\", \"url\": \"https://thinger.io/top-5-smart-cities-in-the-world-2023/\", \"content\": \"1- Zurich (Switzerland) at the top of the Smart City Index : Zurich emerged as the world\\'s smartest city in 2023. · 2- Oslo (Norway) the\", \"score\": 0.8430832}, {\"title\": \"Savills Tech Cities 2023 shows that while big cities dominate, tech ...\", \"url\": \"https://www.savills.us/insight-and-opinion/savills-news/340224/savills-tech-cities-2023-shows-that-while-big-cities-dominate--tech-specialisms-are-accelerating-in-some-locations\", \"content\": \"San Francisco, New York and Silicon Valley dominate the top of Savills 2023 global ranking of \\'Tech Cities\\', offering deep pools of talent,\", \"score\": 0.8215175}]', name='tavily_search_results_json', id='137beb4d-b21d-46ec-9ab1-d9bf25176113', tool_call_id='call_HTSx1WTeqVmkr4jfcvVxaOR7', artifact={'query': 'most technologically advanced city in the world 2023', 'follow_up_questions': None, 'answer': None, 'images': [], 'results': [{'url': 'https://thinger.io/top-5-smart-cities-in-the-world-2023/', 'title': 'Top 5 smart cities in the world (2023) - Thinger.io', 'content': \"1- Zurich (Switzerland) at the top of the Smart City Index : Zurich emerged as the world's smartest city in 2023. · 2- Oslo (Norway) the\", 'score': 0.8430832, 'raw_content': None}, {'url': 'https://www.savills.us/insight-and-opinion/savills-news/340224/savills-tech-cities-2023-shows-that-while-big-cities-dominate--tech-specialisms-are-accelerating-in-some-locations', 'title': 'Savills Tech Cities 2023 shows that while big cities dominate, tech ...', 'content': \"San Francisco, New York and Silicon Valley dominate the top of Savills 2023 global ranking of 'Tech Cities', offering deep pools of talent,\", 'score': 0.8215175, 'raw_content': None}], 'response_time': 2.18})]}}\n",
      "----\n",
      "{'agent': {'messages': [AIMessage(content=\"The most technologically advanced city in the world in terms of IT, according to recent rankings, is Zurich, Switzerland, which emerged as the world's smartest city in 2023. Additionally, major tech hubs like San Francisco, New York, and Silicon Valley are also recognized for their advanced technological infrastructure and talent pools. \\n\\nYou can find more details in the following sources:\\n1. [Thinger.io on Smart Cities](https://thinger.io/top-5-smart-cities-in-the-world-2023/)\\n2. [Savills Tech Cities 2023](https://www.savills.us/insight-and-opinion/savills-news/340224/savills-tech-cities-2023-shows-that-while-big-cities-dominate--tech-specialisms-are-accelerating-in-some-locations)\", additional_kwargs={'refusal': None}, response_metadata={'token_usage': {'completion_tokens': 168, 'prompt_tokens': 353, 'total_tokens': 521, 'completion_tokens_details': {'accepted_prediction_tokens': 0, 'audio_tokens': 0, 'reasoning_tokens': 0, 'rejected_prediction_tokens': 0}, 'prompt_tokens_details': {'audio_tokens': 0, 'cached_tokens': 0}}, 'model_name': 'gpt-4o-mini-2024-07-18', 'system_fingerprint': 'fp_b376dfbbd5', 'id': 'chatcmpl-BJOOJXuBbLuhrRmLdPzjWFzkh5q1q', 'finish_reason': 'stop', 'logprobs': None}, id='run-226310fe-3106-4dfb-93b6-eadce4695ae2-0', usage_metadata={'input_tokens': 353, 'output_tokens': 168, 'total_tokens': 521, 'input_token_details': {'audio': 0, 'cache_read': 0}, 'output_token_details': {'audio': 0, 'reasoning': 0}})]}}\n",
      "----\n"
     ]
    }
   ],
   "source": [
    "for chunk in agent_executor.stream(\n",
    "    {\"messages\": [HumanMessage(content = \"What is the most technologically advanced city in the world in terms of IT?\")]},\n",
    "    config\n",
    "):\n",
    "    print(chunk)\n",
    "    print('----')\n"
   ]
  },
  {
   "cell_type": "code",
   "execution_count": 17,
   "metadata": {},
   "outputs": [
    {
     "name": "stdout",
     "output_type": "stream",
     "text": [
      "{'agent': {'messages': [AIMessage(content='Hello, John Doe! How can I assist you today?', additional_kwargs={'refusal': None}, response_metadata={'token_usage': {'completion_tokens': 14, 'prompt_tokens': 534, 'total_tokens': 548, 'completion_tokens_details': {'accepted_prediction_tokens': 0, 'audio_tokens': 0, 'reasoning_tokens': 0, 'rejected_prediction_tokens': 0}, 'prompt_tokens_details': {'audio_tokens': 0, 'cached_tokens': 0}}, 'model_name': 'gpt-4o-mini-2024-07-18', 'system_fingerprint': 'fp_b376dfbbd5', 'id': 'chatcmpl-BJOOoSqg8EO6TcUkJAS6WzFHJbCYk', 'finish_reason': 'stop', 'logprobs': None}, id='run-f3871cfd-8990-424c-a8ac-4218686d9449-0', usage_metadata={'input_tokens': 534, 'output_tokens': 14, 'total_tokens': 548, 'input_token_details': {'audio': 0, 'cache_read': 0}, 'output_token_details': {'audio': 0, 'reasoning': 0}})]}}\n",
      "----\n"
     ]
    }
   ],
   "source": [
    "for chunk in agent_executor.stream(\n",
    "    {\"messages\": [HumanMessage(content = \"Hi, my name is John Doe\")]},\n",
    "    config\n",
    "):\n",
    "    print(chunk)\n",
    "    print('----')\n"
   ]
  },
  {
   "cell_type": "code",
   "execution_count": 18,
   "metadata": {},
   "outputs": [
    {
     "name": "stdout",
     "output_type": "stream",
     "text": [
      "{'agent': {'messages': [AIMessage(content='Your name is John Doe. How can I help you further?', additional_kwargs={'refusal': None}, response_metadata={'token_usage': {'completion_tokens': 15, 'prompt_tokens': 558, 'total_tokens': 573, 'completion_tokens_details': {'accepted_prediction_tokens': 0, 'audio_tokens': 0, 'reasoning_tokens': 0, 'rejected_prediction_tokens': 0}, 'prompt_tokens_details': {'audio_tokens': 0, 'cached_tokens': 0}}, 'model_name': 'gpt-4o-mini-2024-07-18', 'system_fingerprint': 'fp_b376dfbbd5', 'id': 'chatcmpl-BJOP1d7QTtcjy4X93Z3XCaWoni3Tl', 'finish_reason': 'stop', 'logprobs': None}, id='run-8506fc1f-3fb7-4199-a29b-938fc0cab46b-0', usage_metadata={'input_tokens': 558, 'output_tokens': 15, 'total_tokens': 573, 'input_token_details': {'audio': 0, 'cache_read': 0}, 'output_token_details': {'audio': 0, 'reasoning': 0}})]}}\n",
      "----\n"
     ]
    }
   ],
   "source": [
    "for chunk in agent_executor.stream(\n",
    "    {\"messages\": [HumanMessage(content = \"What's my name?\")]},\n",
    "    config\n",
    "):\n",
    "    print(chunk)\n",
    "    print('----')\n"
   ]
  },
  {
   "cell_type": "code",
   "execution_count": 19,
   "metadata": {},
   "outputs": [
    {
     "name": "stdout",
     "output_type": "stream",
     "text": [
      "{'agent': {'messages': [AIMessage(content=\"I don't have access to personal information about individuals unless it has been shared with me in the course of our conversation. If you could tell me your name, I would be glad to use it!\", additional_kwargs={'refusal': None}, response_metadata={'token_usage': {'completion_tokens': 41, 'prompt_tokens': 83, 'total_tokens': 124, 'completion_tokens_details': {'accepted_prediction_tokens': 0, 'audio_tokens': 0, 'reasoning_tokens': 0, 'rejected_prediction_tokens': 0}, 'prompt_tokens_details': {'audio_tokens': 0, 'cached_tokens': 0}}, 'model_name': 'gpt-4o-mini-2024-07-18', 'system_fingerprint': 'fp_b376dfbbd5', 'id': 'chatcmpl-BJOPMWuxFNE6fuTt2lZwF9EhejG25', 'finish_reason': 'stop', 'logprobs': None}, id='run-989d10c4-744f-4b98-b8d8-d4b88d230073-0', usage_metadata={'input_tokens': 83, 'output_tokens': 41, 'total_tokens': 124, 'input_token_details': {'audio': 0, 'cache_read': 0}, 'output_token_details': {'audio': 0, 'reasoning': 0}})]}}\n",
      "----\n"
     ]
    }
   ],
   "source": [
    "config = {\"configurable\": {\"thread_id\": \"xyz123\"}}\n",
    "\n",
    "for chunk in agent_executor.stream(\n",
    "    {\"messages\": [HumanMessage(content = \"What's my name?\")]},\n",
    "    config\n",
    "):\n",
    "    print(chunk)\n",
    "    print('----')"
   ]
  },
  {
   "cell_type": "code",
   "execution_count": null,
   "metadata": {},
   "outputs": [],
   "source": []
  }
 ],
 "metadata": {
  "kernelspec": {
   "display_name": "Python 3",
   "language": "python",
   "name": "python3"
  },
  "language_info": {
   "codemirror_mode": {
    "name": "ipython",
    "version": 3
   },
   "file_extension": ".py",
   "mimetype": "text/x-python",
   "name": "python",
   "nbconvert_exporter": "python",
   "pygments_lexer": "ipython3",
   "version": "3.10.11"
  }
 },
 "nbformat": 4,
 "nbformat_minor": 2
}
