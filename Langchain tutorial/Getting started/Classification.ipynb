{
 "cells": [
  {
   "cell_type": "markdown",
   "metadata": {},
   "source": [
    "<h1><center>Tagging<center></h1>"
   ]
  },
  {
   "cell_type": "code",
   "execution_count": 1,
   "metadata": {},
   "outputs": [],
   "source": [
    "import getpass\n",
    "import os\n",
    "\n",
    "if not os.environ.get(\"OPENAI_API_KEY\"):\n",
    "    os.environ[\"OPENAI_API_KEY\"] = getpass.getpass(\"Enter API key for OpenAI: \")\n",
    "    \n",
    "from langchain_openai import ChatOpenAI\n",
    "\n",
    "llm = ChatOpenAI(model = \"gpt-4o-mini\")"
   ]
  },
  {
   "cell_type": "code",
   "execution_count": 2,
   "metadata": {},
   "outputs": [],
   "source": [
    "from langchain_core.prompts import ChatPromptTemplate\n",
    "from pydantic import BaseModel, Field\n",
    "\n",
    "tagging_prompt = ChatPromptTemplate.from_template(\n",
    "    \"\"\"\n",
    "    Extract the desired information from the following passage.\n",
    "    \n",
    "    Only extract the properties mentioned in the 'Classification' function.\n",
    "    Passage:\n",
    "    {input}\n",
    "    \"\"\"\n",
    ")\n",
    "\n",
    "class Classification(BaseModel):\n",
    "    sentiment: str = Field(description = \"The sentimet of the text\")\n",
    "    aggresiveness: int = Field(\n",
    "        description = \"How aggresive the text is on a scale from 1 to 10\"\n",
    "    )\n",
    "    language: str = Field(description = \"The language the text is written in\")\n",
    "    \n",
    "\n",
    "llm = ChatOpenAI(temperature = 0, model = \"gpt-4o-mini\").with_structured_output(Classification)"
   ]
  },
  {
   "cell_type": "code",
   "execution_count": 5,
   "metadata": {},
   "outputs": [
    {
     "data": {
      "text/plain": [
       "Classification(sentiment='positive', aggresiveness=1, language='Spanish')"
      ]
     },
     "execution_count": 5,
     "metadata": {},
     "output_type": "execute_result"
    }
   ],
   "source": [
    "input = \"Estoy increiblemente contento de haberte concido! Creo que seremos muy buenos amigos!\"\n",
    "prompt = tagging_prompt.invoke({\"input\": input})\n",
    "response = llm.invoke(prompt)\n",
    "\n",
    "response"
   ]
  },
  {
   "cell_type": "code",
   "execution_count": 8,
   "metadata": {},
   "outputs": [
    {
     "data": {
      "text/plain": [
       "{'sentiment': 'positive', 'aggresiveness': 1, 'language': 'English'}"
      ]
     },
     "execution_count": 8,
     "metadata": {},
     "output_type": "execute_result"
    }
   ],
   "source": [
    "input_2 = \"Man, I really love guinea pigs, they are so cute!\"\n",
    "prompt_2 = tagging_prompt.invoke({\"input\": input_2})\n",
    "response_2 = llm.invoke(prompt_2)\n",
    "\n",
    "response_2.model_dump()"
   ]
  },
  {
   "cell_type": "markdown",
   "metadata": {},
   "source": [
    "<h1><center>Finer control<center></h1>"
   ]
  },
  {
   "cell_type": "code",
   "execution_count": 9,
   "metadata": {},
   "outputs": [],
   "source": [
    "class Classification(BaseModel):\n",
    "    sentiment: str = Field(..., enum = [\"happy\", \"neutral\", \"sad\"])\n",
    "    aggressiveness: int = Field(\n",
    "        ...,\n",
    "        description = \"Describes how aggresive the statement is, the higher then number, the more aggresive\",\n",
    "        enum = [1, 2, 3, 4, 5],\n",
    "    )\n",
    "    language: str = Field(\n",
    "        ..., enum = [\"spanish\", \"english\", \"french\", \"german\", \"italian\", \"polish\", \"chinese\"]\n",
    "    )"
   ]
  },
  {
   "cell_type": "code",
   "execution_count": 10,
   "metadata": {},
   "outputs": [],
   "source": [
    "tagging_prompt_2 = ChatPromptTemplate.from_template(\n",
    "    \"\"\"\n",
    "    Extract the desired information from the following passage.\n",
    "    \n",
    "    Only extract the properties mentioned in the 'Classification' function.\n",
    "    \n",
    "    Passage:\n",
    "    {input}\n",
    "    \"\"\"\n",
    ")\n",
    "\n",
    "llm = ChatOpenAI(temperature = 0, model = \"gpt-4o-mini\").with_structured_output(\n",
    "    Classification\n",
    ")"
   ]
  },
  {
   "cell_type": "code",
   "execution_count": 12,
   "metadata": {},
   "outputs": [
    {
     "data": {
      "text/plain": [
       "Classification(sentiment='sad', aggressiveness=1, language='english')"
      ]
     },
     "execution_count": 12,
     "metadata": {},
     "output_type": "execute_result"
    }
   ],
   "source": [
    "input_3 = \"Ah man, I totally forgot about the test and I'm going to fail!\"\n",
    "prompt_3 = tagging_prompt_2.invoke({\"input\": input_3})\n",
    "llm.invoke(prompt_3)"
   ]
  },
  {
   "cell_type": "code",
   "execution_count": 13,
   "metadata": {},
   "outputs": [
    {
     "data": {
      "text/plain": [
       "Classification(sentiment='happy', aggressiveness=1, language='chinese')"
      ]
     },
     "execution_count": 13,
     "metadata": {},
     "output_type": "execute_result"
    }
   ],
   "source": [
    "input_4 = \"你好！认识你我很高兴\"\n",
    "prompt_4 = tagging_prompt_2.invoke({\"input\": input_4})\n",
    "llm.invoke(prompt_4)"
   ]
  },
  {
   "cell_type": "code",
   "execution_count": 14,
   "metadata": {},
   "outputs": [
    {
     "data": {
      "text/plain": [
       "Classification(sentiment='neutral', aggressiveness=1, language='polish')"
      ]
     },
     "execution_count": 14,
     "metadata": {},
     "output_type": "execute_result"
    }
   ],
   "source": [
    "input_5 = \"Wczoraj była dość ładna pogoda, ale niestety dziś cały dzień pada i jest pochmurno\"\n",
    "prompt_5 = tagging_prompt_2.invoke({\"input\": input_5})\n",
    "llm.invoke(prompt_5)"
   ]
  }
 ],
 "metadata": {
  "kernelspec": {
   "display_name": "Python 3",
   "language": "python",
   "name": "python3"
  },
  "language_info": {
   "codemirror_mode": {
    "name": "ipython",
    "version": 3
   },
   "file_extension": ".py",
   "mimetype": "text/x-python",
   "name": "python",
   "nbconvert_exporter": "python",
   "pygments_lexer": "ipython3",
   "version": "3.10.11"
  }
 },
 "nbformat": 4,
 "nbformat_minor": 2
}
