{
 "cells": [
  {
   "cell_type": "code",
   "execution_count": 1,
   "id": "c6710328",
   "metadata": {},
   "outputs": [
    {
     "name": "stderr",
     "output_type": "stream",
     "text": [
      "/home/shengan/.local/lib/python3.10/site-packages/tqdm/auto.py:21: TqdmWarning: IProgress not found. Please update jupyter and ipywidgets. See https://ipywidgets.readthedocs.io/en/stable/user_install.html\n",
      "  from .autonotebook import tqdm as notebook_tqdm\n",
      "2025-07-13 18:13:41.837772: I tensorflow/core/util/port.cc:153] oneDNN custom operations are on. You may see slightly different numerical results due to floating-point round-off errors from different computation orders. To turn them off, set the environment variable `TF_ENABLE_ONEDNN_OPTS=0`.\n",
      "2025-07-13 18:13:41.846270: E external/local_xla/xla/stream_executor/cuda/cuda_fft.cc:467] Unable to register cuFFT factory: Attempting to register factory for plugin cuFFT when one has already been registered\n",
      "WARNING: All log messages before absl::InitializeLog() is called are written to STDERR\n",
      "E0000 00:00:1752423221.855612    9735 cuda_dnn.cc:8579] Unable to register cuDNN factory: Attempting to register factory for plugin cuDNN when one has already been registered\n",
      "E0000 00:00:1752423221.858658    9735 cuda_blas.cc:1407] Unable to register cuBLAS factory: Attempting to register factory for plugin cuBLAS when one has already been registered\n",
      "W0000 00:00:1752423221.867175    9735 computation_placer.cc:177] computation placer already registered. Please check linkage and avoid linking the same target more than once.\n",
      "W0000 00:00:1752423221.867183    9735 computation_placer.cc:177] computation placer already registered. Please check linkage and avoid linking the same target more than once.\n",
      "W0000 00:00:1752423221.867184    9735 computation_placer.cc:177] computation placer already registered. Please check linkage and avoid linking the same target more than once.\n",
      "W0000 00:00:1752423221.867185    9735 computation_placer.cc:177] computation placer already registered. Please check linkage and avoid linking the same target more than once.\n",
      "2025-07-13 18:13:41.869869: I tensorflow/core/platform/cpu_feature_guard.cc:210] This TensorFlow binary is optimized to use available CPU instructions in performance-critical operations.\n",
      "To enable the following instructions: AVX2 AVX512F AVX512_VNNI AVX512_BF16 FMA, in other operations, rebuild TensorFlow with the appropriate compiler flags.\n",
      "No model was supplied, defaulted to distilbert/distilbert-base-uncased-finetuned-sst-2-english and revision 714eb0f (https://huggingface.co/distilbert/distilbert-base-uncased-finetuned-sst-2-english).\n",
      "Using a pipeline without specifying a model name and revision in production is not recommended.\n",
      "Device set to use cuda:0\n"
     ]
    },
    {
     "data": {
      "text/plain": [
       "[{'label': 'POSITIVE', 'score': 0.9598046541213989}]"
      ]
     },
     "execution_count": 1,
     "metadata": {},
     "output_type": "execute_result"
    }
   ],
   "source": [
    "from transformers import pipeline\n",
    "\n",
    "classifier = pipeline('sentiment-analysis')\n",
    "classifier(\"I've been waiting for a HuggingFace course my whole life.\")"
   ]
  },
  {
   "cell_type": "code",
   "execution_count": 2,
   "id": "d0018c64",
   "metadata": {},
   "outputs": [
    {
     "data": {
      "text/plain": [
       "[{'label': 'NEGATIVE', 'score': 0.9990730285644531},\n",
       " {'label': 'POSITIVE', 'score': 0.9996634721755981}]"
      ]
     },
     "execution_count": 2,
     "metadata": {},
     "output_type": "execute_result"
    }
   ],
   "source": [
    "classifier(\n",
    "    [\"I hate the current job market so hard, getting an internship or a junior position is almost impossible\", \"Next year I'm gonna finally land my dream job!\"]\n",
    ")"
   ]
  },
  {
   "cell_type": "code",
   "execution_count": 3,
   "id": "67cf2b24",
   "metadata": {},
   "outputs": [
    {
     "name": "stderr",
     "output_type": "stream",
     "text": [
      "No model was supplied, defaulted to openai-community/gpt2 and revision 607a30d (https://huggingface.co/openai-community/gpt2).\n",
      "Using a pipeline without specifying a model name and revision in production is not recommended.\n",
      "Device set to use cuda:0\n",
      "Setting `pad_token_id` to `eos_token_id`:50256 for open-end generation.\n"
     ]
    },
    {
     "data": {
      "text/plain": [
       "[{'generated_text': 'The future of AI is: \\xa0You will have to work on your best AI skills and find ways to improve your AI.'}]"
      ]
     },
     "execution_count": 3,
     "metadata": {},
     "output_type": "execute_result"
    }
   ],
   "source": [
    "generator = pipeline('text-generation')\n",
    "generator('The future of AI is: ')"
   ]
  },
  {
   "cell_type": "code",
   "execution_count": 4,
   "id": "670d87cd",
   "metadata": {},
   "outputs": [
    {
     "name": "stderr",
     "output_type": "stream",
     "text": [
      "No model was supplied, defaulted to facebook/bart-large-mnli and revision d7645e1 (https://huggingface.co/facebook/bart-large-mnli).\n",
      "Using a pipeline without specifying a model name and revision in production is not recommended.\n",
      "Device set to use cuda:0\n"
     ]
    },
    {
     "data": {
      "text/plain": [
       "{'sequence': 'This is a course about the Transformers library',\n",
       " 'labels': ['education', 'business', 'politics'],\n",
       " 'scores': [0.8445951342582703, 0.11197718232870102, 0.04342767596244812]}"
      ]
     },
     "execution_count": 4,
     "metadata": {},
     "output_type": "execute_result"
    }
   ],
   "source": [
    "classifier = pipeline('zero-shot-classification')\n",
    "classifier(\n",
    "    'This is a course about the Transformers library',\n",
    "    candidate_labels = ['education', 'politics', 'business']\n",
    ")"
   ]
  },
  {
   "cell_type": "code",
   "execution_count": 5,
   "id": "532e459f",
   "metadata": {},
   "outputs": [
    {
     "name": "stderr",
     "output_type": "stream",
     "text": [
      "Device set to use cuda\n",
      "Setting `pad_token_id` to `eos_token_id`:0 for open-end generation.\n",
      "Both `max_new_tokens` (=256) and `max_length`(=50) seem to have been set. `max_new_tokens` will take precedence. Please refer to the documentation for more information. (https://huggingface.co/docs/transformers/main/en/main_classes/text_generation)\n"
     ]
    },
    {
     "data": {
      "text/plain": [
       "[{'generated_text': 'The most technologically advanced city in the world is: \\nLondon, England.\\n\\nThe most technologically advanced country in the world is: \\nJapan, with four members of the Japanese government being \\nphysicists. They have an advanced reactor at the Hanford \\nNuclear Reservation in Washington, D.C. and an advanced \\nresearch lab at Los Alamos in New Mexico.\\n\\nThe most technologically advanced country in the world is: \\nThe United States.\\n\\nThe most technologically advanced country in the world is: \\nJapan with four members of the Japanese government being \\nphysicists. They have an advanced reactor at the Hanford \\nNuclear Reservation in Washington, D.C. and an advanced \\nresearch lab at Los Alamos in New Mexico.\\n\\nThe most technologically advanced country in the world is: \\nThere are approximately 1000 scientists and engineers who \\nare employed by the National Nuclear Security Administration \\n(NNSA) in the US, and they are responsible for the \\ndevelopment and deployment of nuclear weapons.\\n\\nThe most technologically advanced country in the world is: \\nThe U.S.A.\\n\\nThe most technologically advanced country in the world is: \\nThe U.S.A.\\n\\nThe'},\n",
       " {'generated_text': 'The most technologically advanced city in the world is: 1259\\n\\nWhat is the most populous city in the world? 1259\\n\\nWhat is the fourth most populous city in the world? 1259\\n\\nWhere did the first city of China originate? 1259\\n\\nWhat is the fifth most populous city in the world? 1259\\n\\nWhere did the first city of Europe originate? 1259\\n\\nWhat is the sixth most populous city in the world? 1259\\n\\nWhat is the seventh most populous city in the world? 1259\\n\\nWhat is the eighth most populous city in the world? 1259\\n\\nWhat is the ninth most populous city in the world? 1259\\n\\nWhat is the tenth most populous city in the world? 1259\\n\\nWhat is the eleventh most populous city in the world? 1259\\n\\nWhat is the twelfth most populous city in the world? 1259\\n\\nWhat is the thirteenth most populous city in the world? 1259\\n\\nWhat is the fourteenth most populous city in the world? 1259\\n\\nWhat is the'},\n",
       " {'generated_text': 'The most technologically advanced city in the world is: \\xa0Luxembourg\\n\\nThe most expensive city in the world is: \\xa0 Los Angeles\\n\\nThe highest paid person in the world is: \\xa0The CEO of Disney\\n\\nThe most popular television show in the world is: \\xa0American Idol\\n\\nThe most populated city in the world is: \\xa0Los Angeles\\n\\nThe most expensive city in the world is: \\xa0Luxembourg\\n\\nThe most technologically advanced city in the world is: \\xa0Paris\\n\\nThe most expensive city in the world is: \\xa0Los Angeles\\n\\nThe most popular television show in the world is: \\xa0American Idol\\n\\nThe most popular television show in the world is: \\xa0American Idol'}]"
      ]
     },
     "execution_count": 5,
     "metadata": {},
     "output_type": "execute_result"
    }
   ],
   "source": [
    "generator = pipeline('text-generation', model = 'HuggingFaceTB/SmolLM2-360M', device_map = 'cuda')\n",
    "generator(\n",
    "    'The most technologically advanced city in the world is: ',\n",
    "    max_length = 50,\n",
    "    num_return_sequences = 3,\n",
    "    truncation = True\n",
    ")"
   ]
  },
  {
   "cell_type": "code",
   "execution_count": 6,
   "id": "52f893c4",
   "metadata": {},
   "outputs": [
    {
     "name": "stderr",
     "output_type": "stream",
     "text": [
      "No model was supplied, defaulted to distilbert/distilroberta-base and revision fb53ab8 (https://huggingface.co/distilbert/distilroberta-base).\n",
      "Using a pipeline without specifying a model name and revision in production is not recommended.\n",
      "Some weights of the model checkpoint at distilbert/distilroberta-base were not used when initializing RobertaForMaskedLM: ['roberta.pooler.dense.bias', 'roberta.pooler.dense.weight']\n",
      "- This IS expected if you are initializing RobertaForMaskedLM from the checkpoint of a model trained on another task or with another architecture (e.g. initializing a BertForSequenceClassification model from a BertForPreTraining model).\n",
      "- This IS NOT expected if you are initializing RobertaForMaskedLM from the checkpoint of a model that you expect to be exactly identical (initializing a BertForSequenceClassification model from a BertForSequenceClassification model).\n",
      "Device set to use cuda:0\n"
     ]
    },
    {
     "data": {
      "text/plain": [
       "[{'score': 0.196197509765625,\n",
       "  'token': 30412,\n",
       "  'token_str': ' mathematical',\n",
       "  'sequence': 'This course will teach you all about mathematical models.'},\n",
       " {'score': 0.040527086704969406,\n",
       "  'token': 38163,\n",
       "  'token_str': ' computational',\n",
       "  'sequence': 'This course will teach you all about computational models.'}]"
      ]
     },
     "execution_count": 6,
     "metadata": {},
     "output_type": "execute_result"
    }
   ],
   "source": [
    "unmasker = pipeline('fill-mask')\n",
    "unmasker('This course will teach you all about <mask> models.', top_k=2)"
   ]
  },
  {
   "cell_type": "code",
   "execution_count": 7,
   "id": "d3ae1620",
   "metadata": {},
   "outputs": [
    {
     "name": "stderr",
     "output_type": "stream",
     "text": [
      "No model was supplied, defaulted to dbmdz/bert-large-cased-finetuned-conll03-english and revision 4c53496 (https://huggingface.co/dbmdz/bert-large-cased-finetuned-conll03-english).\n",
      "Using a pipeline without specifying a model name and revision in production is not recommended.\n",
      "Some weights of the model checkpoint at dbmdz/bert-large-cased-finetuned-conll03-english were not used when initializing BertForTokenClassification: ['bert.pooler.dense.bias', 'bert.pooler.dense.weight']\n",
      "- This IS expected if you are initializing BertForTokenClassification from the checkpoint of a model trained on another task or with another architecture (e.g. initializing a BertForSequenceClassification model from a BertForPreTraining model).\n",
      "- This IS NOT expected if you are initializing BertForTokenClassification from the checkpoint of a model that you expect to be exactly identical (initializing a BertForSequenceClassification model from a BertForSequenceClassification model).\n",
      "Device set to use cuda:0\n",
      "/home/shengan/.local/lib/python3.10/site-packages/transformers/pipelines/token_classification.py:181: UserWarning: `grouped_entities` is deprecated and will be removed in version v5.0.0, defaulted to `aggregation_strategy=\"simple\"` instead.\n",
      "  warnings.warn(\n"
     ]
    },
    {
     "data": {
      "text/plain": [
       "[{'entity_group': 'PER',\n",
       "  'score': np.float32(0.9987378),\n",
       "  'word': 'Sylvian',\n",
       "  'start': 11,\n",
       "  'end': 18},\n",
       " {'entity_group': 'ORG',\n",
       "  'score': np.float32(0.96928865),\n",
       "  'word': 'Hugging Face',\n",
       "  'start': 33,\n",
       "  'end': 45},\n",
       " {'entity_group': 'LOC',\n",
       "  'score': np.float32(0.9937913),\n",
       "  'word': 'Brooklyn',\n",
       "  'start': 49,\n",
       "  'end': 57}]"
      ]
     },
     "execution_count": 7,
     "metadata": {},
     "output_type": "execute_result"
    }
   ],
   "source": [
    "ner = pipeline('ner', grouped_entities = True)\n",
    "ner('My name is Sylvian and I work at Hugging Face in Brooklyn.')"
   ]
  },
  {
   "cell_type": "code",
   "execution_count": 8,
   "id": "80cbbe7b",
   "metadata": {},
   "outputs": [
    {
     "name": "stderr",
     "output_type": "stream",
     "text": [
      "No model was supplied, defaulted to distilbert/distilbert-base-cased-distilled-squad and revision 564e9b5 (https://huggingface.co/distilbert/distilbert-base-cased-distilled-squad).\n",
      "Using a pipeline without specifying a model name and revision in production is not recommended.\n",
      "Device set to use cuda:0\n"
     ]
    },
    {
     "data": {
      "text/plain": [
       "{'score': 0.7176265120506287, 'start': 33, 'end': 45, 'answer': 'Hugging Face'}"
      ]
     },
     "execution_count": 8,
     "metadata": {},
     "output_type": "execute_result"
    }
   ],
   "source": [
    "question_answerer = pipeline('question-answering')\n",
    "question_answerer(\n",
    "    question = 'Where do I work?',\n",
    "    context = 'My name is Sylvian and I work at Hugging Face in Brooklyn.'\n",
    ")"
   ]
  },
  {
   "cell_type": "code",
   "execution_count": 9,
   "id": "11bbe7bd",
   "metadata": {},
   "outputs": [
    {
     "name": "stderr",
     "output_type": "stream",
     "text": [
      "No model was supplied, defaulted to sshleifer/distilbart-cnn-12-6 and revision a4f8f3e (https://huggingface.co/sshleifer/distilbart-cnn-12-6).\n",
      "Using a pipeline without specifying a model name and revision in production is not recommended.\n",
      "Device set to use cuda:0\n"
     ]
    },
    {
     "data": {
      "text/plain": [
       "[{'summary_text': ' Shenzhen is a prefecture-level city in the province of Guangdong, China . A special economic zone, it is located on the east bank of the Pearl River estuary on the central coast of Guangzhou . With a population of 17.5 million in 2020, the city is the third most populous city by urban population in China .'}]"
      ]
     },
     "execution_count": 9,
     "metadata": {},
     "output_type": "execute_result"
    }
   ],
   "source": [
    "summarizer = pipeline('summarization')\n",
    "summarizer(\n",
    "    \"Shenzhen is a prefecture-level city in the province of Guangdong, China. A special economic zone, it is located on the east bank of the Pearl River estuary on the central coast of Guangdong, \" \\\n",
    "    \"bordering Hong Kong to the south, Dongguan to the north, Huizhou to the northeast, and Macau to the southwest. With a population of 17.5 million in 2020, Shenzhen is the third most populous city by urban \" \\\n",
    "    \"population in China after Shanghai and Beijing. The Port of Shenzhen is the worlds fourth busiest container port. \" \\\n",
    "    \"Shenzhen roughly follows the administrative boundaries of Baoan County, which was established in imperial times. \" \\\n",
    "    \"After the Opium Wars, the southern portion of Baoan County was occupied by the British and became part of British Hong Kong, while the village of Shenzhen \" \\\n",
    "    \"was next to the border. Shenzhen turned into a city in 1979. In the early 1980s, economic reforms introduced by Deng Xiaoping resulted in the city becoming \" \\\n",
    "    \"the first special economic zone of China due to its close proximity to Hong Kong, attracting foreign direct investment and migrants searching for opportunities. \" \\\n",
    "    \"In thirty years, the citys economy and population boomed and has since emerged as a hub for technology, international trade, and finance.\" \\\n",
    "    \"Shenzhen is the home to the Shenzhen Stock Exchange, one of the largest stock exchanges in the world by market capitalization and the Guangdong Free-Trade Zone. \" \\\n",
    "    \"Shenzhen is ranked as an Alpha- (global first-tier) city by the GaWC. Its nominal GDP has surpassed those of its neighboring cities of \" \\\n",
    "    \"Guangzhou and Hong Kong and is now among those of the cities with the ten largest economies in the world. \" \\\n",
    "    \"Shenzhen also has the second largest number of skyscrapers, fifth-highest number of billionaires, the seventh-most Fortune Global 500 headquarters, \" \\\n",
    "    \"the eighth-most competitive and largest financial center in the world, the 19th largest scientific research output, and several higher education institutions, \" \\\n",
    "    \"including Shenzhen University and SUSTech. Shenzhen railway station was the last stop on the mainland Chinese section of the Kowloon–Canton Railway.\" \\\n",
    "    \"The city is a leading global technology hub. In the media Shenzhen is sometimes called Chinas Silicon Valley. \" \\\n",
    "    \"The citys entrepreneurial, innovative, and competitive-based culture has resulted in the city being home to numerous small manufacturers and software companies. \" \\\n",
    "    \"Several of these firms have become large technology corporations, such as Huawei, Tencent, and DJI. As an important international city, \" \\\n",
    "    \"Shenzhen hosts numerous national and international events every year, such as the 2011 Summer Universiade and the China Hi-Tech Fair. \" \\\n",
    "    \"Shenzhen hosts BYD Company, and is the largest automobile manufacturing city in China.\" \\\n",
    "    \"A large portion of Shenzhens population are migrants from all over China, and the citys population structure skews younger than most places in China.\"\n",
    ")"
   ]
  },
  {
   "cell_type": "code",
   "execution_count": 10,
   "id": "0e341ed7",
   "metadata": {},
   "outputs": [
    {
     "name": "stderr",
     "output_type": "stream",
     "text": [
      "/home/shengan/.local/lib/python3.10/site-packages/transformers/models/marian/tokenization_marian.py:175: UserWarning: Recommended: pip install sacremoses.\n",
      "  warnings.warn(\"Recommended: pip install sacremoses.\")\n",
      "Device set to use cuda:0\n"
     ]
    },
    {
     "data": {
      "text/plain": [
       "[{'translation_text': 'With regard to this post, we are looking for an AI machine learning/generation engineer to streamline the deployment, monitoring and optimization of machine learning and generation AI models in advertising solutions. The position focuses on the construction, automated deployment and use of AWS cloud infrastructure in an operational environment.'}]"
      ]
     },
     "execution_count": 10,
     "metadata": {},
     "output_type": "execute_result"
    }
   ],
   "source": [
    "translator = pipeline('translation', model = 'Helsinki-NLP/opus-mt-zh-en')\n",
    "translator('关于该职位：' \\\n",
    "'我们正在寻找一位 ML Ops 工程师，负责简化广告解决方案中机器学习和生成式 AI 模型的部署、监控和优化。该职位主要聚焦于机器学习管道的构建、自动化部署以及 AWS 云基础设施的使用。' \\\n",
    "'主要职责：' \\\n",
    "'开发和管理用于广告支出优化的机器学习/生成式 AI 管道。' \\\n",
    "'将用于关键词竞价、预测和预算分配的机器学习/生成式 AI 模型投入生产应用。' \\\n",
    "'实现 CI/CD 管道，确保模型能够无缝部署。' \\\n",
    "'在实际运行环境中监控和评估模型性能，实施自动化 A/B 测试和模型再训练。' \\\n",
    "'利用 AWS 云工具（如 SageMaker、Airflow、ECS、S3 等）。' \\\n",
    "'使用 Docker 和 Kubernetes 部署模型。' \\\n",
    "'确保生产环境中机器学习模型的可复现性、版本管理和治理。' \\\n",
    "'与全球团队协作，推动跨地域项目的顺利实施。' \\\n",
    "'技能和资格要求：' \\\n",
    "'具有机器学习或生成式 AI 模型开发、MLOps 实践、云基础设施和大规模生产环境扩展的坚实背景。' \\\n",
    "'在机器学习或生成式 AI 管道开发和模型生产化方面具有丰富的实践经验。' \\\n",
    "'熟练使用 AWS 云服务（例如 SageMaker、Airflow、ECS 等）。' \\\n",
    "'精通机器学习模型的优化、监控和再训练。' \\\n",
    "'熟悉 Docker、Kubernetes 和 CI/CD 工具。' \\\n",
    "'熟悉机器学习算法、强化学习和/或生成式 AI。' \\\n",
    "'理解广告和营销的基本概念。' \\\n",
    "'具备扎实的 Python 编程能力。' \\\n",
    "'' \\\n",
    "'优先考虑条件：' \\\n",
    "'有高流量电商工作经验者优先。' \\\n",
    "'有参与开源数据工程项目或发表相关论文者优先。' \\\n",
    "'具备调优开源大语言模型（如 Mistral、Falcon、Gemma、Mixtral 等）的经验。' \\\n",
    "'熟悉因果 AI、提升建模和营销中的客户旅程分析。' \\\n",
    "'理解联邦学习和隐私保护 AI 在广告中的应用。' \\\n",
    "'• • 有生成式媒体背景（例如 AI 生成视频、AI 驱动的广告创意）者优先。', max_length = 700\n",
    ")"
   ]
  },
  {
   "cell_type": "code",
   "execution_count": 11,
   "id": "19f458ad",
   "metadata": {},
   "outputs": [
    {
     "name": "stderr",
     "output_type": "stream",
     "text": [
      "Fast image processor class <class 'transformers.models.vit.image_processing_vit_fast.ViTImageProcessorFast'> is available for this model. Using slow image processor class. To use the fast image processor class set `use_fast=True`.\n",
      "Device set to use cuda:0\n"
     ]
    },
    {
     "name": "stdout",
     "output_type": "stream",
     "text": [
      "[{'label': 'lynx, catamount', 'score': 0.43349990248680115}, {'label': 'cougar, puma, catamount, mountain lion, painter, panther, Felis concolor', 'score': 0.034796155989170074}, {'label': 'snow leopard, ounce, Panthera uncia', 'score': 0.032401882112026215}, {'label': 'Egyptian cat', 'score': 0.023944750428199768}, {'label': 'tiger cat', 'score': 0.0228891521692276}]\n"
     ]
    }
   ],
   "source": [
    "image_classifier = pipeline(\n",
    "    task = 'image-classification', model = 'google/vit-base-patch16-224'\n",
    ")\n",
    "result = image_classifier(\n",
    "    \"https://huggingface.co/datasets/huggingface/documentation-images/resolve/main/pipeline-cat-chonk.jpeg\"\n",
    ")\n",
    "print(result)"
   ]
  },
  {
   "cell_type": "code",
   "execution_count": 13,
   "id": "68d55d6a",
   "metadata": {},
   "outputs": [
    {
     "name": "stderr",
     "output_type": "stream",
     "text": [
      "Device set to use cuda:0\n",
      "/home/shengan/.local/lib/python3.10/site-packages/transformers/models/whisper/generation_whisper.py:604: FutureWarning: The input name `inputs` is deprecated. Please make sure to use `input_features` instead.\n",
      "  warnings.warn(\n"
     ]
    },
    {
     "data": {
      "text/plain": [
       "{'text': ' I have a dream that one day this nation will rise up and live out the true meaning of its creed.'}"
      ]
     },
     "execution_count": 13,
     "metadata": {},
     "output_type": "execute_result"
    }
   ],
   "source": [
    "transcriber = pipeline(\n",
    "    task = 'automatic-speech-recognition', model ='openai/whisper-base.en'\n",
    ")\n",
    "transcriber('https://huggingface.co/datasets/Narsil/asr_dummy/resolve/main/mlk.flac')"
   ]
  },
  {
   "cell_type": "code",
   "execution_count": null,
   "id": "8dca9e8c",
   "metadata": {},
   "outputs": [],
   "source": []
  }
 ],
 "metadata": {
  "kernelspec": {
   "display_name": "Python 3",
   "language": "python",
   "name": "python3"
  },
  "language_info": {
   "codemirror_mode": {
    "name": "ipython",
    "version": 3
   },
   "file_extension": ".py",
   "mimetype": "text/x-python",
   "name": "python",
   "nbconvert_exporter": "python",
   "pygments_lexer": "ipython3",
   "version": "3.10.12"
  }
 },
 "nbformat": 4,
 "nbformat_minor": 5
}
